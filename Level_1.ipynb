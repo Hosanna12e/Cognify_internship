{
  "nbformat": 4,
  "nbformat_minor": 0,
  "metadata": {
    "colab": {
      "provenance": []
    },
    "kernelspec": {
      "name": "python3",
      "display_name": "Python 3"
    },
    "language_info": {
      "name": "python"
    }
  },
  "cells": [
    {
      "cell_type": "markdown",
      "source": [
        "Task-1"
      ],
      "metadata": {
        "id": "aiZsGB4dkZfU"
      }
    },
    {
      "cell_type": "code",
      "execution_count": 1,
      "metadata": {
        "colab": {
          "base_uri": "https://localhost:8080/"
        },
        "id": "7UMlxEiNj2GZ",
        "outputId": "273123df-1d5d-4ef0-ddc5-6132062d2e34"
      },
      "outputs": [
        {
          "output_type": "stream",
          "name": "stdout",
          "text": [
            "Top Three Cuisines:\n",
            "North Indian: 3960 restaurants (41.46%)\n",
            "Chinese: 2735 restaurants (28.64%)\n",
            "Fast Food: 1986 restaurants (20.79%)\n"
          ]
        }
      ],
      "source": [
        "import pandas as pd\n",
        "\n",
        "# Load the dataset into a pandas DataFrame\n",
        "data = pd.read_csv('Dataset.csv')\n",
        "\n",
        "# Count cuisine frequencies\n",
        "cuisine_counts = data['Cuisines'].str.split(', ', expand=True).stack().value_counts()\n",
        "\n",
        "# Identify top three cuisines\n",
        "top_cuisines = cuisine_counts.head(3)\n",
        "\n",
        "# Calculate percentages\n",
        "total_restaurants = len(data)\n",
        "percentage_per_cuisine = (top_cuisines / total_restaurants) * 100\n",
        "\n",
        "# Display results\n",
        "print(\"Top Three Cuisines:\")\n",
        "for cuisine, count in top_cuisines.items():\n",
        "    percentage = percentage_per_cuisine[cuisine]\n",
        "    print(f\"{cuisine}: {count} restaurants ({percentage:.2f}%)\")\n"
      ]
    },
    {
      "cell_type": "markdown",
      "source": [
        "Task-2"
      ],
      "metadata": {
        "id": "DL21yXQ6kcc1"
      }
    },
    {
      "cell_type": "code",
      "source": [
        "import pandas as pd\n",
        "\n",
        "# Load the dataset into a pandas DataFrame\n",
        "data = pd.read_csv('Dataset.csv')  # Replace 'Dataset.csv' with the actual file name\n",
        "\n",
        "# Count restaurants per city\n",
        "restaurants_per_city = data['City'].value_counts()\n",
        "\n",
        "# Calculate average rating per city\n",
        "average_rating_per_city = data.groupby('City')['Aggregate rating'].mean()\n",
        "\n",
        "# Identify city with the highest number of restaurants\n",
        "city_most_restaurants = restaurants_per_city.idxmax()\n",
        "num_restaurants_most = restaurants_per_city.max()\n",
        "\n",
        "# Identify city with the highest average rating\n",
        "city_highest_avg_rating = average_rating_per_city.idxmax()\n",
        "highest_avg_rating = average_rating_per_city.max()\n",
        "\n",
        "# Display results\n",
        "print(\"City with the Highest Number of Restaurants:\")\n",
        "print(f\"{city_most_restaurants} with {num_restaurants_most} restaurants\")\n",
        "\n",
        "print(\"\\nCity with the Highest Average Rating:\")\n",
        "print(f\"{city_highest_avg_rating} with an average rating of {highest_avg_rating:.2f}\")\n"
      ],
      "metadata": {
        "colab": {
          "base_uri": "https://localhost:8080/"
        },
        "id": "u16h4rJDkWec",
        "outputId": "cda5a54c-8b20-4d43-867a-266d3b846e08"
      },
      "execution_count": 2,
      "outputs": [
        {
          "output_type": "stream",
          "name": "stdout",
          "text": [
            "City with the Highest Number of Restaurants:\n",
            "New Delhi with 5473 restaurants\n",
            "\n",
            "City with the Highest Average Rating:\n",
            "Inner City with an average rating of 4.90\n"
          ]
        }
      ]
    },
    {
      "cell_type": "markdown",
      "source": [
        "Task-3"
      ],
      "metadata": {
        "id": "LyHKME_3kYnd"
      }
    },
    {
      "cell_type": "code",
      "source": [
        "import pandas as pd\n",
        "import matplotlib.pyplot as plt\n",
        "\n",
        "# Load the dataset into a pandas DataFrame\n",
        "data = pd.read_csv('Dataset.csv')  # Replace 'Dataset.csv' with the actual file name\n",
        "\n",
        "# Extract the \"Price range\" column\n",
        "price_ranges = data['Price range']\n",
        "\n",
        "# Create a histogram or bar chart\n",
        "plt.figure(figsize=(8, 6))\n",
        "plt.hist(price_ranges, bins=[0, 1, 2, 3, 4], align='left', rwidth=0.8, color='skyblue', edgecolor='black')\n",
        "plt.xlabel('Price Range')\n",
        "plt.ylabel('Number of Restaurants')\n",
        "plt.title('Price Range Distribution')\n",
        "plt.xticks([0, 1, 2, 3, 4], ['Low', 'Mid', 'High', 'Very High', 'Luxury'])\n",
        "plt.grid(axis='y')\n",
        "\n",
        "# Calculate percentage of restaurants in each price range\n",
        "total_restaurants = len(price_ranges)\n",
        "price_range_counts = price_ranges.value_counts()\n",
        "percentage_per_range = (price_range_counts / total_restaurants) * 100\n",
        "\n",
        "# Display percentages\n",
        "for i, percentage in enumerate(percentage_per_range):\n",
        "    print(f\"Percentage of restaurants in Price Range {i}: {percentage:.2f}%\")\n",
        "\n",
        "plt.show()\n"
      ],
      "metadata": {
        "colab": {
          "base_uri": "https://localhost:8080/",
          "height": 633
        },
        "id": "2w1jTEkfkkJC",
        "outputId": "e4eaef66-2a97-45ee-89ae-070b23cd66a8"
      },
      "execution_count": 3,
      "outputs": [
        {
          "output_type": "stream",
          "name": "stdout",
          "text": [
            "Percentage of restaurants in Price Range 0: 46.53%\n",
            "Percentage of restaurants in Price Range 1: 32.59%\n",
            "Percentage of restaurants in Price Range 2: 14.74%\n",
            "Percentage of restaurants in Price Range 3: 6.14%\n"
          ]
        },
        {
          "output_type": "display_data",
          "data": {
            "text/plain": [
              "<Figure size 800x600 with 1 Axes>"
            ],
            "image/png": "[encoded data removed]"
          },
          "metadata": {}
        }
      ]
    },
    {
      "cell_type": "markdown",
      "source": [
        "Task-4"
      ],
      "metadata": {
        "id": "Aa2kI1GXknAe"
      }
    },
    {
      "cell_type": "code",
      "source": [
        "import pandas as pd\n",
        "\n",
        "# Load the dataset into a pandas DataFrame\n",
        "data = pd.read_csv('Dataset.csv')  # Replace 'Dataset.csv' with the actual file name\n",
        "\n",
        "# Calculate percentage of restaurants with online delivery\n",
        "restaurants_with_online_delivery = data[data['Has Online delivery'] == 'Yes']\n",
        "percentage_with_online_delivery = (len(restaurants_with_online_delivery) / len(data)) * 100\n",
        "\n",
        "# Calculate average ratings for restaurants with and without online delivery\n",
        "avg_rating_with_online_delivery = restaurants_with_online_delivery['Aggregate rating'].mean()\n",
        "avg_rating_without_online_delivery = data[data['Has Online delivery'] == 'No']['Aggregate rating'].mean()\n",
        "\n",
        "# Display results\n",
        "print(\"Percentage of Restaurants with Online Delivery:\", percentage_with_online_delivery)\n",
        "print(\"Average Rating for Restaurants with Online Delivery:\", avg_rating_with_online_delivery)\n",
        "print(\"Average Rating for Restaurants without Online Delivery:\", avg_rating_without_online_delivery)\n"
      ],
      "metadata": {
        "id": "nKhD1dVxkoiD",
        "outputId": "9af02f73-5209-4eb6-d92d-675099080afd",
        "colab": {
          "base_uri": "https://localhost:8080/"
        }
      },
      "execution_count": 4,
      "outputs": [
        {
          "output_type": "stream",
          "name": "stdout",
          "text": [
            "Percentage of Restaurants with Online Delivery: 25.662234321013504\n",
            "Average Rating for Restaurants with Online Delivery: 3.2488372093023257\n",
            "Average Rating for Restaurants without Online Delivery: 2.465295774647887\n"
          ]
        }
      ]
    }
  ]
}