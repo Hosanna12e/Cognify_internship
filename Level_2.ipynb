{
  "nbformat": 4,
  "nbformat_minor": 0,
  "metadata": {
    "colab": {
      "provenance": []
    },
    "kernelspec": {
      "name": "python3",
      "display_name": "Python 3"
    },
    "language_info": {
      "name": "python"
    }
  },
  "cells": [
    {
      "cell_type": "markdown",
      "source": [
        "Task-1"
      ],
      "metadata": {
        "id": "7Y5I7AYpk2Tm"
      }
    },
    {
      "cell_type": "code",
      "execution_count": 1,
      "metadata": {
        "colab": {
          "base_uri": "https://localhost:8080/",
          "height": 599
        },
        "id": "4tCO1OJikvsn",
        "outputId": "17c41e64-ab5a-41b7-ac7a-5dbdb016fe28"
      },
      "outputs": [
        {
          "output_type": "stream",
          "name": "stdout",
          "text": [
            "Most Common Rating Range: 0.0\n",
            "Average Number of Votes: 156.909747670401\n"
          ]
        },
        {
          "output_type": "display_data",
          "data": {
            "text/plain": [
              "<Figure size 800x600 with 1 Axes>"
            ],
            "image/png": "[encoded data removed]"
          },
          "metadata": {}
        }
      ],
      "source": [
        "import pandas as pd\n",
        "import matplotlib.pyplot as plt\n",
        "\n",
        "# Load the dataset into a pandas DataFrame\n",
        "data = pd.read_csv('Dataset.csv')  # Replace 'Dataset.csv' with the actual file name\n",
        "\n",
        "# Create a histogram or bar chart for distribution of ratings\n",
        "plt.figure(figsize=(8, 6))\n",
        "plt.hist(data['Aggregate rating'], bins=10, color='skyblue', edgecolor='black')\n",
        "plt.xlabel('Aggregate Rating')\n",
        "plt.ylabel('Number of Restaurants')\n",
        "plt.title('Distribution of Aggregate Ratings')\n",
        "plt.grid(axis='y')\n",
        "\n",
        "# Determine the most common rating range\n",
        "most_common_rating_range = data['Aggregate rating'].mode()[0]\n",
        "\n",
        "# Calculate average number of votes received by restaurants\n",
        "average_votes = data['Votes'].mean()\n",
        "\n",
        "# Display results\n",
        "print(\"Most Common Rating Range:\", most_common_rating_range)\n",
        "print(\"Average Number of Votes:\", average_votes)\n",
        "\n",
        "plt.show()\n"
      ]
    },
    {
      "cell_type": "markdown",
      "source": [
        "Task-2"
      ],
      "metadata": {
        "id": "Zr6LnL9xk77j"
      }
    },
    {
      "cell_type": "code",
      "source": [
        "import pandas as pd\n",
        "\n",
        "# Load the dataset into a pandas DataFrame\n",
        "data = pd.read_csv('Dataset.csv')  # Replace 'Dataset.csv' with the actual file name\n",
        "\n",
        "# Extract the \"Cuisines\" and \"Aggregate rating\" columns\n",
        "cuisine_ratings = data[['Cuisines', 'Aggregate rating']].dropna()\n",
        "\n",
        "# Identify common cuisine combinations\n",
        "cuisine_combinations = cuisine_ratings['Cuisines'].str.split(', ')\n",
        "cuisine_combinations = cuisine_combinations.apply(lambda x: tuple(sorted(x)))  # Sort cuisines to avoid duplicate combinations\n",
        "common_combinations = cuisine_combinations.value_counts().head(10)\n",
        "\n",
        "# Analyze ratings for cuisine combinations\n",
        "average_ratings_per_combination = cuisine_ratings.groupby('Cuisines')['Aggregate rating'].mean()\n",
        "\n",
        "# Display results\n",
        "print(\"Most Common Cuisine Combinations:\")\n",
        "print(common_combinations)\n",
        "\n",
        "print(\"\\nAverage Ratings for Cuisine Combinations:\")\n",
        "for combination, count in common_combinations.items():\n",
        "    combination_str = ', '.join(combination)\n",
        "    average_rating = average_ratings_per_combination[combination_str]\n",
        "    print(f\"Cuisines: {combination_str} | Count: {count} | Average Rating: {average_rating:.2f}\")\n"
      ],
      "metadata": {
        "colab": {
          "base_uri": "https://localhost:8080/"
        },
        "id": "JrGcPnRKk9Iu",
        "outputId": "f60f0009-d29c-47f8-d6c7-631046f6b125"
      },
      "execution_count": 2,
      "outputs": [
        {
          "output_type": "stream",
          "name": "stdout",
          "text": [
            "Most Common Cuisine Combinations:\n",
            "(North Indian,)                     936\n",
            "(Chinese, North Indian)             616\n",
            "(Mughlai, North Indian)             394\n",
            "(Fast Food,)                        354\n",
            "(Chinese,)                          354\n",
            "(Chinese, Mughlai, North Indian)    306\n",
            "(Cafe,)                             299\n",
            "(Bakery,)                           218\n",
            "(Bakery, Desserts)                  181\n",
            "(Chinese, Fast Food)                159\n",
            "Name: Cuisines, dtype: int64\n",
            "\n",
            "Average Ratings for Cuisine Combinations:\n",
            "Cuisines: North Indian | Count: 936 | Average Rating: 1.67\n",
            "Cuisines: Chinese, North Indian | Count: 616 | Average Rating: 1.90\n",
            "Cuisines: Mughlai, North Indian | Count: 394 | Average Rating: 2.09\n",
            "Cuisines: Fast Food | Count: 354 | Average Rating: 2.12\n",
            "Cuisines: Chinese | Count: 354 | Average Rating: 2.04\n",
            "Cuisines: Chinese, Mughlai, North Indian | Count: 306 | Average Rating: 2.09\n",
            "Cuisines: Cafe | Count: 299 | Average Rating: 2.89\n",
            "Cuisines: Bakery | Count: 218 | Average Rating: 1.92\n",
            "Cuisines: Bakery, Desserts | Count: 181 | Average Rating: 2.32\n",
            "Cuisines: Chinese, Fast Food | Count: 159 | Average Rating: 2.06\n"
          ]
        }
      ]
    },
    {
      "cell_type": "markdown",
      "source": [
        "Task-3"
      ],
      "metadata": {
        "id": "AIWDvmaBk_ta"
      }
    },
    {
      "cell_type": "code",
      "source": [
        "import pandas as pd\n",
        "import folium\n",
        "\n",
        "# Load the dataset into a pandas DataFrame\n",
        "data = pd.read_csv('Dataset.csv')  # Replace 'Dataset.csv' with the actual file name\n",
        "\n",
        "# Create a map centered around a specific location (you can adjust these values)\n",
        "map_center = [data['Latitude'].mean(), data['Longitude'].mean()]\n",
        "restaurant_map = folium.Map(location=map_center, zoom_start=12)\n",
        "\n",
        "# Add markers for each restaurant's location\n",
        "for index, row in data.iterrows():\n",
        "    folium.Marker([row['Latitude'], row['Longitude']], popup=row['Restaurant Name']).add_to(restaurant_map)\n",
        "\n",
        "# Display the map\n",
        "restaurant_map.save('restaurant_map.html')\n"
      ],
      "metadata": {
        "id": "HDpijbutlA5J"
      },
      "execution_count": 3,
      "outputs": []
    },
    {
      "cell_type": "markdown",
      "source": [
        "Task-4"
      ],
      "metadata": {
        "id": "JHDg7xUvlHeM"
      }
    },
    {
      "cell_type": "code",
      "source": [
        "import pandas as pd\n",
        "\n",
        "# Load the dataset into a pandas DataFrame\n",
        "data = pd.read_csv('Dataset.csv')  # Replace 'Dataset.csv' with the actual file name\n",
        "\n",
        "# Group data by Restaurant Name to identify chains\n",
        "chain_groups = data.groupby('Restaurant Name')\n",
        "\n",
        "# Initialize lists to store chain statistics\n",
        "chain_names = []\n",
        "chain_avg_ratings = []\n",
        "chain_total_votes = []\n",
        "chain_num_locations = []\n",
        "\n",
        "# Calculate chain statistics\n",
        "for chain_name, group in chain_groups:\n",
        "    num_locations = len(group)\n",
        "    avg_rating = group['Aggregate rating'].mean()\n",
        "    total_votes = group['Votes'].sum()\n",
        "\n",
        "    chain_names.append(chain_name)\n",
        "    chain_avg_ratings.append(avg_rating)\n",
        "    chain_total_votes.append(total_votes)\n",
        "    chain_num_locations.append(num_locations)\n",
        "\n",
        "# Create a DataFrame for chain statistics\n",
        "chain_stats = pd.DataFrame({\n",
        "    'Chain Name': chain_names,\n",
        "    'Average Rating': chain_avg_ratings,\n",
        "    'Total Votes': chain_total_votes,\n",
        "    'Number of Locations': chain_num_locations\n",
        "})\n",
        "\n",
        "# Display chain statistics\n",
        "print(\"Chain Statistics:\")\n",
        "print(chain_stats.sort_values(by='Number of Locations', ascending=False))\n"
      ],
      "metadata": {
        "colab": {
          "base_uri": "https://localhost:8080/"
        },
        "id": "IluLEbZjlHFd",
        "outputId": "cc276c6c-7832-4498-839b-edf122cb58f9"
      },
      "execution_count": 4,
      "outputs": [
        {
          "output_type": "stream",
          "name": "stdout",
          "text": [
            "Chain Statistics:\n",
            "                                   Chain Name  Average Rating  Total Votes  \\\n",
            "1098                          Cafe Coffee Day        2.419277         2428   \n",
            "2098                           Domino's Pizza        2.740506         6643   \n",
            "6106                                   Subway        2.907937         6124   \n",
            "2716                         Green Chick Chop        2.672549          964   \n",
            "4077                               McDonald's        3.339583         5291   \n",
            "...                                       ...             ...          ...   \n",
            "2618                    Gian Ji Punjabi Dhaba        0.000000            0   \n",
            "2617  Ghungroo Club & Bar - By Gautam Gambhir        3.800000          140   \n",
            "2616                            Ghar Ki Handi        3.000000            6   \n",
            "2615                             Ghar Ka Swad        0.000000            2   \n",
            "7445                        �ukura��a Sofras۱        4.400000          296   \n",
            "\n",
            "      Number of Locations  \n",
            "1098                   83  \n",
            "2098                   79  \n",
            "6106                   63  \n",
            "2716                   51  \n",
            "4077                   48  \n",
            "...                   ...  \n",
            "2618                    1  \n",
            "2617                    1  \n",
            "2616                    1  \n",
            "2615                    1  \n",
            "7445                    1  \n",
            "\n",
            "[7446 rows x 4 columns]\n"
          ]
        }
      ]
    }
  ]
}